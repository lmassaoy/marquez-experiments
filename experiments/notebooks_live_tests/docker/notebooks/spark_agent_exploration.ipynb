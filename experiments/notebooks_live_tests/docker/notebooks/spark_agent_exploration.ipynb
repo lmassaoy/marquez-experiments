{
 "cells": [
  {
   "cell_type": "markdown",
   "id": "7a205875",
   "metadata": {},
   "source": [
    "Initializing Spark Context"
   ]
  },
  {
   "cell_type": "code",
   "execution_count": 1,
   "id": "4abac6f3-149e-4fb8-b00f-4a416f062d82",
   "metadata": {},
   "outputs": [],
   "source": [
    "from pyspark.sql import SparkSession\n",
    "\n",
    "\n",
    "jars = [\"/home/jovyan/openlineage/libs/openlineage-spark-1.5.0.jar\"]\n",
    "marquez_url = \"http://host.docker.internal:5000/api/v1\"\n",
    "marquez_namespace = 'notebook_experiments'\n",
    "\n",
    "\n",
    "spark = (SparkSession.builder.master('local')\n",
    "            .appName('spark_agent_exploration')\n",
    "            .config('spark.jars', \",\".join(jars))\n",
    "            .config('spark.jars.packages', 'io.openlineage:openlineage-spark:1.5.0')\n",
    "            .config('spark.extraListeners', 'io.openlineage.spark.agent.OpenLineageSparkListener')\n",
    "            .config('spark.openlineage.appName', 'anime_job') # overwriting Spark app name in events \n",
    "            \n",
    "            # using HTTP transport, sending events directly to Marquez endpoint\n",
    "            .config('spark.openlineage.transport.type', 'http')\n",
    "            .config('spark.openlineage.transport.url', marquez_url)\n",
    "            \n",
    "            # evolve to capture an env var\n",
    "            .config('spark.openlineage.namespace', marquez_namespace)\n",
    "            .config('spark.openlineage.jobName.appendDatasetName', False)\n",
    "            # .config('spark.openlineage.dataset.removePath.pattern', '(.*)(?<remove>\\/.*\\/.*)')\n",
    "            .getOrCreate())\n",
    "\n",
    "spark.sparkContext.setLogLevel(\"INFO\")"
   ]
  },
  {
   "cell_type": "markdown",
   "id": "965ea4d7",
   "metadata": {},
   "source": [
    "Reading anime genre data for initial experiment"
   ]
  },
  {
   "cell_type": "code",
   "execution_count": 2,
   "id": "4ea4deb7",
   "metadata": {},
   "outputs": [
    {
     "name": "stdout",
     "output_type": "stream",
     "text": [
      "+----+--------------------+------+-------+------+----+----------+------+--------+------+-------------+------+-----+-------+------+------+----------+-----+-----+--------+----+----+-------+-----+-----+-----+------------+-------------+---------+-------+------+-----------+------+------------+------+---------+-------+-----+--------+----+-------+----+------+-----+------+\n",
      "|  id|      details.Genres|Parody|Vampire|Shoujo|Kids|Historical|Horror|Dementia|School|Psychological|Demons|Drama|Mystery|Police|Action|Shounen Ai|Ecchi|Music|Military|Game|Yaoi|Samurai|Space|Harem|Mecha|Martial Arts|Slice of Life|Adventure|Fantasy|Sports|Super Power|Sci-Fi|Supernatural|Hentai|Shoujo Ai|Romance|Josei|Thriller|Cars|Shounen|Yuri|Seinen|Magic|Comedy|\n",
      "+----+--------------------+------+-------+------+----+----------+------+--------+------+-------------+------+-----+-------+------+------+----------+-----+-----+--------+----+----+-------+-----+-----+-----+------------+-------------+---------+-------+------+-----------+------+------------+------+---------+-------+-----+--------+----+-------+----+------+-----+------+\n",
      "|6604|[Comedy, Slice of...|     0|      0|     0|   0|         0|     0|       0|     0|            0|     0|    0|      0|     0|     0|         0|    0|    0|       0|   0|   0|      0|    0|    0|    0|           0|            1|        0|      0|     0|          0|     0|           0|     0|        0|      0|    0|       0|   0|      0|   0|     0|    0|     1|\n",
      "|6607|[Adventure, Fantasy]|     0|      0|     0|   0|         0|     0|       0|     0|            0|     0|    0|      0|     0|     0|         0|    0|    0|       0|   0|   0|      0|    0|    0|    0|           0|            0|        1|      1|     0|          0|     0|           0|     0|        0|      0|    0|       0|   0|      0|   0|     0|    0|     0|\n",
      "|6609|[Comedy, Parody, ...|     1|      0|     0|   0|         0|     0|       0|     0|            0|     0|    0|      0|     0|     0|         0|    0|    0|       0|   0|   0|      0|    0|    0|    0|           0|            0|        0|      0|     0|          0|     0|           0|     0|        0|      1|    0|       0|   0|      0|   0|     0|    0|     1|\n",
      "|6610|[Action, Thriller...|     0|      0|     0|   0|         0|     0|       0|     0|            0|     0|    0|      1|     0|     1|         0|    0|    0|       0|   0|   0|      0|    0|    0|    0|           0|            0|        0|      0|     0|          0|     1|           0|     0|        0|      0|    0|       1|   0|      0|   0|     0|    0|     0|\n",
      "|6616|[Action, Romance,...|     0|      0|     0|   0|         0|     0|       0|     0|            0|     0|    0|      0|     0|     1|         0|    0|    0|       0|   0|   0|      1|    0|    0|    0|           0|            0|        0|      0|     0|          0|     1|           0|     0|        0|      1|    0|       0|   0|      0|   0|     0|    0|     0|\n",
      "|6622|            [Hentai]|     0|      0|     0|   0|         0|     0|       0|     0|            0|     0|    0|      0|     0|     0|         0|    0|    0|       0|   0|   0|      0|    0|    0|    0|           0|            0|        0|      0|     0|          0|     0|           0|     1|        0|      0|    0|       0|   0|      0|   0|     0|    0|     0|\n",
      "|6624|[Action, Mystery,...|     0|      0|     0|   0|         0|     0|       0|     0|            0|     0|    0|      1|     0|     1|         0|    0|    0|       0|   0|   0|      0|    0|    0|    0|           0|            0|        0|      0|     0|          1|     0|           0|     0|        0|      1|    0|       1|   0|      0|   0|     0|    0|     0|\n",
      "|6625|[Comedy, Slice of...|     0|      0|     0|   0|         0|     0|       0|     0|            0|     0|    0|      0|     0|     0|         0|    0|    0|       0|   0|   0|      0|    0|    0|    0|           0|            1|        0|      0|     0|          0|     0|           0|     0|        0|      0|    0|       0|   0|      0|   0|     0|    0|     1|\n",
      "|6628|            [Comedy]|     0|      0|     0|   0|         0|     0|       0|     0|            0|     0|    0|      0|     0|     0|         0|    0|    0|       0|   0|   0|      0|    0|    0|    0|           0|            0|        0|      0|     0|          0|     0|           0|     0|        0|      0|    0|       0|   0|      0|   0|     0|    0|     1|\n",
      "|6629|[Slice of Life, C...|     0|      0|     1|   0|         0|     0|       0|     0|            0|     0|    0|      0|     0|     0|         0|    0|    0|       0|   0|   0|      0|    0|    0|    0|           0|            1|        0|      0|     0|          0|     0|           0|     0|        0|      0|    0|       0|   0|      0|   0|     0|    0|     1|\n",
      "+----+--------------------+------+-------+------+----+----------+------+--------+------+-------------+------+-----+-------+------+------+----------+-----+-----+--------+----+----+-------+-----+-----+-----+------------+-------------+---------+-------+------+-----------+------+------------+------+---------+-------+-----+--------+----+-------+----+------+-----+------+\n",
      "only showing top 10 rows\n",
      "\n"
     ]
    }
   ],
   "source": [
    "anime_genre_df = spark.read.parquet('./source_data/animes_genres.parquet')\n",
    "anime_genre_df.show(10)"
   ]
  },
  {
   "cell_type": "code",
   "execution_count": 3,
   "id": "41bfdcab",
   "metadata": {},
   "outputs": [
    {
     "name": "stdout",
     "output_type": "stream",
     "text": [
      "root\n",
      " |-- id: long (nullable = true)\n",
      " |-- details.Genres: array (nullable = true)\n",
      " |    |-- element: string (containsNull = true)\n",
      " |-- Parody: long (nullable = true)\n",
      " |-- Vampire: long (nullable = true)\n",
      " |-- Shoujo: long (nullable = true)\n",
      " |-- Kids: long (nullable = true)\n",
      " |-- Historical: long (nullable = true)\n",
      " |-- Horror: long (nullable = true)\n",
      " |-- Dementia: long (nullable = true)\n",
      " |-- School: long (nullable = true)\n",
      " |-- Psychological: long (nullable = true)\n",
      " |-- Demons: long (nullable = true)\n",
      " |-- Drama: long (nullable = true)\n",
      " |-- Mystery: long (nullable = true)\n",
      " |-- Police: long (nullable = true)\n",
      " |-- Action: long (nullable = true)\n",
      " |-- Shounen Ai: long (nullable = true)\n",
      " |-- Ecchi: long (nullable = true)\n",
      " |-- Music: long (nullable = true)\n",
      " |-- Military: long (nullable = true)\n",
      " |-- Game: long (nullable = true)\n",
      " |-- Yaoi: long (nullable = true)\n",
      " |-- Samurai: long (nullable = true)\n",
      " |-- Space: long (nullable = true)\n",
      " |-- Harem: long (nullable = true)\n",
      " |-- Mecha: long (nullable = true)\n",
      " |-- Martial Arts: long (nullable = true)\n",
      " |-- Slice of Life: long (nullable = true)\n",
      " |-- Adventure: long (nullable = true)\n",
      " |-- Fantasy: long (nullable = true)\n",
      " |-- Sports: long (nullable = true)\n",
      " |-- Super Power: long (nullable = true)\n",
      " |-- Sci-Fi: long (nullable = true)\n",
      " |-- Supernatural: long (nullable = true)\n",
      " |-- Hentai: long (nullable = true)\n",
      " |-- Shoujo Ai: long (nullable = true)\n",
      " |-- Romance: long (nullable = true)\n",
      " |-- Josei: long (nullable = true)\n",
      " |-- Thriller: long (nullable = true)\n",
      " |-- Cars: long (nullable = true)\n",
      " |-- Shounen: long (nullable = true)\n",
      " |-- Yuri: long (nullable = true)\n",
      " |-- Seinen: long (nullable = true)\n",
      " |-- Magic: long (nullable = true)\n",
      " |-- Comedy: long (nullable = true)\n",
      "\n"
     ]
    }
   ],
   "source": [
    "anime_genre_df.printSchema()"
   ]
  },
  {
   "cell_type": "code",
   "execution_count": 4,
   "id": "7cc2656d-1e4e-4dc6-9521-0e8a2eab8a7d",
   "metadata": {},
   "outputs": [],
   "source": [
    "anime_genre_df.createOrReplaceTempView('animes_genres')"
   ]
  },
  {
   "cell_type": "code",
   "execution_count": 5,
   "id": "75804bdf-0849-4572-8735-3ba1c0ab174b",
   "metadata": {},
   "outputs": [
    {
     "name": "stdout",
     "output_type": "stream",
     "text": [
      "+---+-----------------------------------------------------------------+------+-------+------+----+----------+------+--------+------+-------------+------+-----+-------+------+------+----------+-----+-----+--------+----+----+-------+-----+-----+-----+------------+-------------+---------+-------+------+-----------+------+------------+------+---------+-------+-----+--------+----+-------+----+------+-----+------+\n",
      "|id |details.Genres                                                   |Parody|Vampire|Shoujo|Kids|Historical|Horror|Dementia|School|Psychological|Demons|Drama|Mystery|Police|Action|Shounen Ai|Ecchi|Music|Military|Game|Yaoi|Samurai|Space|Harem|Mecha|Martial Arts|Slice of Life|Adventure|Fantasy|Sports|Super Power|Sci-Fi|Supernatural|Hentai|Shoujo Ai|Romance|Josei|Thriller|Cars|Shounen|Yuri|Seinen|Magic|Comedy|\n",
      "+---+-----------------------------------------------------------------+------+-------+------+----+----------+------+--------+------+-------------+------+-----+-------+------+------+----------+-----+-----+--------+----+----+-------+-----+-----+-----+------------+-------------+---------+-------+------+-----------+------+------------+------+---------+-------+-----+--------+----+-------+----+------+-----+------+\n",
      "|1  |[Action, Adventure, Comedy, Drama, Sci-Fi, Space]                |0     |0      |0     |0   |0         |0     |0       |0     |0            |0     |1    |0      |0     |1     |0         |0    |0    |0       |0   |0   |0      |1    |0    |0    |0           |0            |1        |0      |0     |0          |1     |0           |0     |0        |0      |0    |0       |0   |0      |0   |0     |0    |1     |\n",
      "|5  |[Action, Drama, Mystery, Sci-Fi, Space]                          |0     |0      |0     |0   |0         |0     |0       |0     |0            |0     |1    |1      |0     |1     |0         |0    |0    |0       |0   |0   |0      |1    |0    |0    |0           |0            |0        |0      |0     |0          |1     |0           |0     |0        |0      |0    |0       |0   |0      |0   |0     |0    |0     |\n",
      "|6  |[Action, Sci-Fi, Adventure, Comedy, Drama, Shounen]              |0     |0      |0     |0   |0         |0     |0       |0     |0            |0     |1    |0      |0     |1     |0         |0    |0    |0       |0   |0   |0      |0    |0    |0    |0           |0            |1        |0      |0     |0          |1     |0           |0     |0        |0      |0    |0       |0   |1      |0   |0     |0    |1     |\n",
      "|7  |[Action, Mystery, Police, Supernatural, Drama, Magic]            |0     |0      |0     |0   |0         |0     |0       |0     |0            |0     |1    |1      |1     |1     |0         |0    |0    |0       |0   |0   |0      |0    |0    |0    |0           |0            |0        |0      |0     |0          |0     |1           |0     |0        |0      |0    |0       |0   |0      |0   |0     |1    |0     |\n",
      "|8  |[Adventure, Fantasy, Shounen, Supernatural]                      |0     |0      |0     |0   |0         |0     |0       |0     |0            |0     |0    |0      |0     |0     |0         |0    |0    |0       |0   |0   |0      |0    |0    |0    |0           |0            |1        |1      |0     |0          |0     |1           |0     |0        |0      |0    |0       |0   |1      |0   |0     |0    |0     |\n",
      "|15 |[Action, Sports, Comedy, Shounen]                                |0     |0      |0     |0   |0         |0     |0       |0     |0            |0     |0    |0      |0     |1     |0         |0    |0    |0       |0   |0   |0      |0    |0    |0    |0           |0            |0        |0      |1     |0          |0     |0           |0     |0        |0      |0    |0       |0   |1      |0   |0     |0    |1     |\n",
      "|16 |[Comedy, Drama, Josei, Romance, Slice of Life]                   |0     |0      |0     |0   |0         |0     |0       |0     |0            |0     |1    |0      |0     |0     |0         |0    |0    |0       |0   |0   |0      |0    |0    |0    |0           |1            |0        |0      |0     |0          |0     |0           |0     |0        |1      |1    |0       |0   |0      |0   |0     |0    |1     |\n",
      "|17 |[Slice of Life, Comedy, Sports, Shounen]                         |0     |0      |0     |0   |0         |0     |0       |0     |0            |0     |0    |0      |0     |0     |0         |0    |0    |0       |0   |0   |0      |0    |0    |0    |0           |1            |0        |0      |1     |0          |0     |0           |0     |0        |0      |0    |0       |0   |1      |0   |0     |0    |1     |\n",
      "|18 |[Action, Cars, Sports, Drama, Seinen]                            |0     |0      |0     |0   |0         |0     |0       |0     |0            |0     |1    |0      |0     |1     |0         |0    |0    |0       |0   |0   |0      |0    |0    |0    |0           |0            |0        |0      |1     |0          |0     |0           |0     |0        |0      |0    |0       |1   |0      |0   |1     |0    |0     |\n",
      "|19 |[Drama, Horror, Mystery, Police, Psychological, Seinen, Thriller]|0     |0      |0     |0   |0         |1     |0       |0     |1            |0     |1    |1      |1     |0     |0         |0    |0    |0       |0   |0   |0      |0    |0    |0    |0           |0            |0        |0      |0     |0          |0     |0           |0     |0        |0      |0    |1       |0   |0      |0   |1     |0    |0     |\n",
      "+---+-----------------------------------------------------------------+------+-------+------+----+----------+------+--------+------+-------------+------+-----+-------+------+------+----------+-----+-----+--------+----+----+-------+-----+-----+-----+------------+-------------+---------+-------+------+-----------+------+------------+------+---------+-------+-----+--------+----+-------+----+------+-----+------+\n",
      "\n"
     ]
    }
   ],
   "source": [
    "top10_df = spark.sql('select * from animes_genres order by id asc limit 10')\n",
    "top10_df.show(10,False)"
   ]
  },
  {
   "cell_type": "markdown",
   "id": "11f60ddd",
   "metadata": {},
   "source": [
    "Time to write the dataframe and check Marquez"
   ]
  },
  {
   "cell_type": "code",
   "execution_count": 7,
   "id": "eab73913",
   "metadata": {},
   "outputs": [],
   "source": [
    "top10_df.coalesce(1).write.mode(\"overwrite\").parquet(\"./top_10_animes/\")"
   ]
  },
  {
   "cell_type": "code",
   "execution_count": 9,
   "id": "2e547cc1-b670-4d1b-a85d-df7294daf6e8",
   "metadata": {},
   "outputs": [
    {
     "name": "stdout",
     "output_type": "stream",
     "text": [
      "+----+--------+----------------------------------------------------+--------------------------------------------------------+-------------------------+-------------------+---------------------------------------------------+-------------------------------------------------+------------------------------------------------------+----------------+----------------+------------+----------------+---------------+---------------------------+-----------------+------------------------+---------------------------------------------------------------------+-----------------+---------------------------------+--------------+-----------------------+----------------+--------------+-------------+----------------+--------------+------------------+---------------+-----------------+---------------+-----+-------------------+-------------------+-----------+-----------------+-------------------+-------------------+-------------------------+--------------+\n",
      "|id  |title   |photo                                               |synopsis                                                |background               |data_extraction    |links.episodes                                     |links.stats                                      |links.characters & staff                              |details.Synonyms|details.Japanese|details.Type|details.Episodes|details.Status |details.Aired              |details.Premiered|details.Broadcast       |details.Producers                                                    |details.Licensors|details.Studios                  |details.Source|details.Genres         |details.Duration|details.Rating|details.Score|details.ScoredBy|details.Ranked|details.Popularity|details.Members|details.Favorites|details.English|links|aired_from         |aired_to           |days_in_air|hours_per_episode|minutes_per_episode|seconds_per_episode|episode_lenght_in_seconds|seconds_in_air|\n",
      "+----+--------+----------------------------------------------------+--------------------------------------------------------+-------------------------+-------------------+---------------------------------------------------+-------------------------------------------------+------------------------------------------------------+----------------+----------------+------------+----------------+---------------+---------------------------+-----------------+------------------------+---------------------------------------------------------------------+-----------------+---------------------------------+--------------+-----------------------+----------------+--------------+-------------+----------------+--------------+------------------+---------------+-----------------+---------------+-----+-------------------+-------------------+-----------+-----------------+-------------------+-------------------+-------------------------+--------------+\n",
      "|6604|Kuruneko|https://cdn.myanimelist.net/images/anime/6/20591.jpg|Based on a manga about cats and their sake loving owner.|No background information|2021-02-16 17:48:51|https://myanimelist.net/anime/6604/Kuruneko/episode|https://myanimelist.net/anime/6604/Kuruneko/stats|https://myanimelist.net/anime/6604/Kuruneko/characters|Kuru Neko       |くるねこ        |TV          |50              |Finished Airing|Jul 5, 2009 to Jun 26, 2010|Summer 2009      |Saturdays at 11:40 (JST)|['Kadokawa Pictures Japan', 'Kansai Telecasting', 'Tokai Television']|null             |['Studio Deen', 'DAX Production']|Manga         |[Comedy, Slice of Life]|2 min. per ep.  |G - All Ages  |7.31         |706             |2308          |7070              |4030           |9                |null           |null |2009-07-05 00:00:00|2010-06-26 00:00:00|356.0      |0                |2                  |0                  |120                      |6000.0        |\n",
      "+----+--------+----------------------------------------------------+--------------------------------------------------------+-------------------------+-------------------+---------------------------------------------------+-------------------------------------------------+------------------------------------------------------+----------------+----------------+------------+----------------+---------------+---------------------------+-----------------+------------------------+---------------------------------------------------------------------+-----------------+---------------------------------+--------------+-----------------------+----------------+--------------+-------------+----------------+--------------+------------------+---------------+-----------------+---------------+-----+-------------------+-------------------+-----------+-----------------+-------------------+-------------------+-------------------------+--------------+\n",
      "only showing top 1 row\n",
      "\n"
     ]
    }
   ],
   "source": [
    "animes_df = spark.read.parquet('./source_data/prepared_animes.parquet')\n",
    "animes_df.createOrReplaceTempView('animes')\n",
    "animes_df.show(1,False)"
   ]
  },
  {
   "cell_type": "code",
   "execution_count": 11,
   "id": "587c62d5-9862-445c-bc98-87178bda96d1",
   "metadata": {},
   "outputs": [
    {
     "name": "stdout",
     "output_type": "stream",
     "text": [
      "+------------+\n",
      "|total_animes|\n",
      "+------------+\n",
      "|21755       |\n",
      "+------------+\n",
      "\n"
     ]
    }
   ],
   "source": [
    "spark.sql('select count(id) as total_animes from animes').show(10,False)"
   ]
  },
  {
   "cell_type": "code",
   "execution_count": 11,
   "id": "9449be13-d0f9-4f16-ba37-963fc51073ae",
   "metadata": {},
   "outputs": [
    {
     "name": "stdout",
     "output_type": "stream",
     "text": [
      "+------------+\n",
      "|total_animes|\n",
      "+------------+\n",
      "|21755       |\n",
      "+------------+\n",
      "\n"
     ]
    }
   ],
   "source": [
    "spark.sql('select count(id) as total_animes from animes').show(10,False)"
   ]
  }
 ],
 "metadata": {
  "kernelspec": {
   "display_name": "Python 3 (ipykernel)",
   "language": "python",
   "name": "python3"
  },
  "language_info": {
   "codemirror_mode": {
    "name": "ipython",
    "version": 3
   },
   "file_extension": ".py",
   "mimetype": "text/x-python",
   "name": "python",
   "nbconvert_exporter": "python",
   "pygments_lexer": "ipython3",
   "version": "3.11.5"
  }
 },
 "nbformat": 4,
 "nbformat_minor": 5
}
