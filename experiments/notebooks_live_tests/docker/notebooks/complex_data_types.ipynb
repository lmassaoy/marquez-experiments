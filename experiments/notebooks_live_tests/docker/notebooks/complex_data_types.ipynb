{
 "cells": [
  {
   "cell_type": "markdown",
   "id": "7a205875",
   "metadata": {},
   "source": [
    "Initializing Spark Context"
   ]
  },
  {
   "cell_type": "code",
   "execution_count": 1,
   "id": "4abac6f3-149e-4fb8-b00f-4a416f062d82",
   "metadata": {},
   "outputs": [],
   "source": [
    "from pyspark.sql import SparkSession\n",
    "\n",
    "\n",
    "jars = [\"/home/jovyan/openlineage/libs/openlineage-spark-1.5.0.jar\"]\n",
    "marquez_url = \"http://host.docker.internal:5000/api/v1\"\n",
    "marquez_namespace = 'notebook_experiments'\n",
    "\n",
    "\n",
    "spark = (SparkSession.builder.master('local')\n",
    "            .appName('complex_data_types_experiment')\n",
    "            .config('spark.jars', \",\".join(jars))\n",
    "            .config('spark.jars.packages', 'io.openlineage:openlineage-spark:1.5.0')\n",
    "            .config('spark.extraListeners', 'io.openlineage.spark.agent.OpenLineageSparkListener')\n",
    "            .config('spark.openlineage.appName', 'complex_data_type') # overwriting Spark app name in events \n",
    "            \n",
    "            # using HTTP transport, sending events directly to Marquez endpoint\n",
    "            .config('spark.openlineage.transport.type', 'http')\n",
    "            .config('spark.openlineage.transport.url', marquez_url)\n",
    "            \n",
    "            # evolve to capture an env var\n",
    "            .config('spark.openlineage.namespace', marquez_namespace)\n",
    "            .getOrCreate())\n",
    "\n",
    "spark.sparkContext.setLogLevel(\"INFO\")"
   ]
  },
  {
   "cell_type": "markdown",
   "id": "965ea4d7",
   "metadata": {},
   "source": [
    "Generic DataFrame for initial experiment"
   ]
  },
  {
   "cell_type": "code",
   "execution_count": 9,
   "id": "4ea4deb7",
   "metadata": {
    "scrolled": true
   },
   "outputs": [
    {
     "name": "stdout",
     "output_type": "stream",
     "text": [
      "+---+---------+-------------------------------------------------+\n",
      "|a  |b        |c                                                |\n",
      "+---+---------+-------------------------------------------------+\n",
      "|1  |[1, 2, 3]|{name -> {last=yamada, first=luis}, id -> abc}   |\n",
      "|2  |[3, 4, 5]|{name -> {last=andrade, first=marcos}, id -> bcd}|\n",
      "|3  |[6, 7, 8]|{name -> {last=morais, first=walace}, id -> efg} |\n",
      "+---+---------+-------------------------------------------------+\n",
      "\n"
     ]
    }
   ],
   "source": [
    "generic_df = spark.createDataFrame([\n",
    "    {'a': 1, 'b': [1,2,3], 'c': {'id': 'abc', 'name': {'first': 'luis', 'last': 'yamada'}}},\n",
    "    {'a': 2, 'b': [3,4,5], 'c': {'id': 'bcd', 'name': {'first': 'marcos', 'last': 'andrade'}}},\n",
    "    {'a': 3, 'b': [6,7,8], 'c': {'id': 'efg', 'name': {'first': 'walace', 'last': 'morais'}}}\n",
    "])\n",
    "generic_df.show(3,False)"
   ]
  },
  {
   "cell_type": "code",
   "execution_count": 11,
   "id": "41bfdcab",
   "metadata": {},
   "outputs": [
    {
     "name": "stdout",
     "output_type": "stream",
     "text": [
      "root\n",
      " |-- a: long (nullable = true)\n",
      " |-- b: array (nullable = true)\n",
      " |    |-- element: long (containsNull = true)\n",
      " |-- c: map (nullable = true)\n",
      " |    |-- key: string\n",
      " |    |-- value: string (valueContainsNull = true)\n",
      "\n"
     ]
    }
   ],
   "source": [
    "generic_df.printSchema()"
   ]
  },
  {
   "cell_type": "markdown",
   "id": "11f60ddd",
   "metadata": {},
   "source": [
    "Time to write the dataframe and check Marquez"
   ]
  },
  {
   "cell_type": "code",
   "execution_count": 13,
   "id": "eab73913",
   "metadata": {},
   "outputs": [],
   "source": [
    "generic_df.write.mode(\"overwrite\").parquet(\"./complex_data_type/\")"
   ]
  },
  {
   "cell_type": "code",
   "execution_count": null,
   "id": "2e547cc1-b670-4d1b-a85d-df7294daf6e8",
   "metadata": {},
   "outputs": [],
   "source": []
  }
 ],
 "metadata": {
  "kernelspec": {
   "display_name": "Python 3 (ipykernel)",
   "language": "python",
   "name": "python3"
  },
  "language_info": {
   "codemirror_mode": {
    "name": "ipython",
    "version": 3
   },
   "file_extension": ".py",
   "mimetype": "text/x-python",
   "name": "python",
   "nbconvert_exporter": "python",
   "pygments_lexer": "ipython3",
   "version": "3.11.5"
  }
 },
 "nbformat": 4,
 "nbformat_minor": 5
}
